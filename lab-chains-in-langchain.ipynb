{
 "cells": [
  {
   "cell_type": "markdown",
   "id": "52824b89-532a-4e54-87e9-1410813cd39e",
   "metadata": {},
   "source": [
    "# Lab | Chains in LangChain\n",
    "\n",
    "## Outline\n",
    "\n",
    "* LLMChain\n",
    "* Sequential Chains\n",
    "  * SimpleSequentialChain\n",
    "  * SequentialChain\n",
    "* Router Chain"
   ]
  },
  {
   "cell_type": "code",
   "execution_count": 1,
   "id": "541eb2f1",
   "metadata": {},
   "outputs": [],
   "source": [
    "import warnings\n",
    "warnings.filterwarnings('ignore')"
   ]
  },
  {
   "cell_type": "code",
   "execution_count": 2,
   "id": "b7ed03ed-1322-49e3-b2a2-33e94fb592ef",
   "metadata": {
    "tags": []
   },
   "outputs": [],
   "source": [
    "import os\n",
    "\n",
    "from dotenv import load_dotenv, find_dotenv\n",
    "_ = load_dotenv(find_dotenv())\n",
    "\n",
    "OPENAI_API_KEY  = os.getenv('OPENAI_API_KEY')\n",
    "HUGGINGFACEHUB_API_TOKEN = os.getenv('HUGGINGFACEHUB_API_TOKEN')"
   ]
  },
  {
   "cell_type": "code",
   "execution_count": 3,
   "id": "b84e441b",
   "metadata": {
    "tags": []
   },
   "outputs": [],
   "source": [
    "#!pip install pandas"
   ]
  },
  {
   "cell_type": "code",
   "execution_count": 7,
   "id": "974acf8e-8f88-42de-88f8-40a82cb58e8b",
   "metadata": {
    "tags": []
   },
   "outputs": [],
   "source": [
    "import pandas as pd\n",
    "df = pd.read_csv(r'C:\\Users\\ITCC\\OneDrive\\Desktop\\langchain lab\\Data.csv')\n"
   ]
  },
  {
   "cell_type": "code",
   "execution_count": 8,
   "id": "b7a09c35",
   "metadata": {
    "tags": []
   },
   "outputs": [
    {
     "data": {
      "text/html": [
       "<div>\n",
       "<style scoped>\n",
       "    .dataframe tbody tr th:only-of-type {\n",
       "        vertical-align: middle;\n",
       "    }\n",
       "\n",
       "    .dataframe tbody tr th {\n",
       "        vertical-align: top;\n",
       "    }\n",
       "\n",
       "    .dataframe thead th {\n",
       "        text-align: right;\n",
       "    }\n",
       "</style>\n",
       "<table border=\"1\" class=\"dataframe\">\n",
       "  <thead>\n",
       "    <tr style=\"text-align: right;\">\n",
       "      <th></th>\n",
       "      <th>Product</th>\n",
       "      <th>Review</th>\n",
       "    </tr>\n",
       "  </thead>\n",
       "  <tbody>\n",
       "    <tr>\n",
       "      <th>0</th>\n",
       "      <td>Queen Size Sheet Set</td>\n",
       "      <td>I ordered a king size set. My only criticism w...</td>\n",
       "    </tr>\n",
       "    <tr>\n",
       "      <th>1</th>\n",
       "      <td>Waterproof Phone Pouch</td>\n",
       "      <td>I loved the waterproof sac, although the openi...</td>\n",
       "    </tr>\n",
       "    <tr>\n",
       "      <th>2</th>\n",
       "      <td>Luxury Air Mattress</td>\n",
       "      <td>This mattress had a small hole in the top of i...</td>\n",
       "    </tr>\n",
       "    <tr>\n",
       "      <th>3</th>\n",
       "      <td>Pillows Insert</td>\n",
       "      <td>This is the best throw pillow fillers on Amazo...</td>\n",
       "    </tr>\n",
       "    <tr>\n",
       "      <th>4</th>\n",
       "      <td>Milk Frother Handheld\\n</td>\n",
       "      <td>I loved this product. But they only seem to l...</td>\n",
       "    </tr>\n",
       "  </tbody>\n",
       "</table>\n",
       "</div>"
      ],
      "text/plain": [
       "                   Product                                             Review\n",
       "0     Queen Size Sheet Set  I ordered a king size set. My only criticism w...\n",
       "1   Waterproof Phone Pouch  I loved the waterproof sac, although the openi...\n",
       "2      Luxury Air Mattress  This mattress had a small hole in the top of i...\n",
       "3           Pillows Insert  This is the best throw pillow fillers on Amazo...\n",
       "4  Milk Frother Handheld\\n   I loved this product. But they only seem to l..."
      ]
     },
     "execution_count": 8,
     "metadata": {},
     "output_type": "execute_result"
    }
   ],
   "source": [
    "df.head()"
   ]
  },
  {
   "cell_type": "markdown",
   "id": "b940ce7c",
   "metadata": {},
   "source": [
    "## LLMChain"
   ]
  },
  {
   "cell_type": "code",
   "execution_count": 9,
   "id": "427e1119",
   "metadata": {},
   "outputs": [
    {
     "name": "stdout",
     "output_type": "stream",
     "text": [
      "Requirement already satisfied: langchain_community in c:\\users\\itcc\\onedrive\\desktop\\langchain lab\\.venv\\lib\\site-packages (0.3.21)\n",
      "Requirement already satisfied: langchain-core<1.0.0,>=0.3.51 in c:\\users\\itcc\\onedrive\\desktop\\langchain lab\\.venv\\lib\\site-packages (from langchain_community) (0.3.51)\n",
      "Requirement already satisfied: langchain<1.0.0,>=0.3.23 in c:\\users\\itcc\\onedrive\\desktop\\langchain lab\\.venv\\lib\\site-packages (from langchain_community) (0.3.23)\n",
      "Requirement already satisfied: SQLAlchemy<3,>=1.4 in c:\\users\\itcc\\onedrive\\desktop\\langchain lab\\.venv\\lib\\site-packages (from langchain_community) (2.0.40)\n",
      "Requirement already satisfied: requests<3,>=2 in c:\\users\\itcc\\onedrive\\desktop\\langchain lab\\.venv\\lib\\site-packages (from langchain_community) (2.32.3)\n",
      "Requirement already satisfied: PyYAML>=5.3 in c:\\users\\itcc\\onedrive\\desktop\\langchain lab\\.venv\\lib\\site-packages (from langchain_community) (6.0.2)\n",
      "Requirement already satisfied: aiohttp<4.0.0,>=3.8.3 in c:\\users\\itcc\\onedrive\\desktop\\langchain lab\\.venv\\lib\\site-packages (from langchain_community) (3.11.16)\n",
      "Requirement already satisfied: tenacity!=8.4.0,<10,>=8.1.0 in c:\\users\\itcc\\onedrive\\desktop\\langchain lab\\.venv\\lib\\site-packages (from langchain_community) (9.1.2)\n",
      "Requirement already satisfied: dataclasses-json<0.7,>=0.5.7 in c:\\users\\itcc\\onedrive\\desktop\\langchain lab\\.venv\\lib\\site-packages (from langchain_community) (0.6.7)\n",
      "Requirement already satisfied: pydantic-settings<3.0.0,>=2.4.0 in c:\\users\\itcc\\onedrive\\desktop\\langchain lab\\.venv\\lib\\site-packages (from langchain_community) (2.8.1)\n",
      "Requirement already satisfied: langsmith<0.4,>=0.1.125 in c:\\users\\itcc\\onedrive\\desktop\\langchain lab\\.venv\\lib\\site-packages (from langchain_community) (0.3.31)\n",
      "Requirement already satisfied: httpx-sse<1.0.0,>=0.4.0 in c:\\users\\itcc\\onedrive\\desktop\\langchain lab\\.venv\\lib\\site-packages (from langchain_community) (0.4.0)\n",
      "Requirement already satisfied: numpy<3,>=1.26.2 in c:\\users\\itcc\\onedrive\\desktop\\langchain lab\\.venv\\lib\\site-packages (from langchain_community) (2.2.4)\n",
      "Requirement already satisfied: aiohappyeyeballs>=2.3.0 in c:\\users\\itcc\\onedrive\\desktop\\langchain lab\\.venv\\lib\\site-packages (from aiohttp<4.0.0,>=3.8.3->langchain_community) (2.6.1)\n",
      "Requirement already satisfied: aiosignal>=1.1.2 in c:\\users\\itcc\\onedrive\\desktop\\langchain lab\\.venv\\lib\\site-packages (from aiohttp<4.0.0,>=3.8.3->langchain_community) (1.3.2)\n",
      "Requirement already satisfied: attrs>=17.3.0 in c:\\users\\itcc\\onedrive\\desktop\\langchain lab\\.venv\\lib\\site-packages (from aiohttp<4.0.0,>=3.8.3->langchain_community) (25.3.0)\n",
      "Requirement already satisfied: frozenlist>=1.1.1 in c:\\users\\itcc\\onedrive\\desktop\\langchain lab\\.venv\\lib\\site-packages (from aiohttp<4.0.0,>=3.8.3->langchain_community) (1.5.0)\n",
      "Requirement already satisfied: multidict<7.0,>=4.5 in c:\\users\\itcc\\onedrive\\desktop\\langchain lab\\.venv\\lib\\site-packages (from aiohttp<4.0.0,>=3.8.3->langchain_community) (6.4.3)\n",
      "Requirement already satisfied: propcache>=0.2.0 in c:\\users\\itcc\\onedrive\\desktop\\langchain lab\\.venv\\lib\\site-packages (from aiohttp<4.0.0,>=3.8.3->langchain_community) (0.3.1)\n",
      "Requirement already satisfied: yarl<2.0,>=1.17.0 in c:\\users\\itcc\\onedrive\\desktop\\langchain lab\\.venv\\lib\\site-packages (from aiohttp<4.0.0,>=3.8.3->langchain_community) (1.19.0)\n",
      "Requirement already satisfied: marshmallow<4.0.0,>=3.18.0 in c:\\users\\itcc\\onedrive\\desktop\\langchain lab\\.venv\\lib\\site-packages (from dataclasses-json<0.7,>=0.5.7->langchain_community) (3.26.1)\n",
      "Requirement already satisfied: typing-inspect<1,>=0.4.0 in c:\\users\\itcc\\onedrive\\desktop\\langchain lab\\.venv\\lib\\site-packages (from dataclasses-json<0.7,>=0.5.7->langchain_community) (0.9.0)\n",
      "Requirement already satisfied: langchain-text-splitters<1.0.0,>=0.3.8 in c:\\users\\itcc\\onedrive\\desktop\\langchain lab\\.venv\\lib\\site-packages (from langchain<1.0.0,>=0.3.23->langchain_community) (0.3.8)\n",
      "Requirement already satisfied: pydantic<3.0.0,>=2.7.4 in c:\\users\\itcc\\onedrive\\desktop\\langchain lab\\.venv\\lib\\site-packages (from langchain<1.0.0,>=0.3.23->langchain_community) (2.11.3)\n",
      "Requirement already satisfied: jsonpatch<2.0,>=1.33 in c:\\users\\itcc\\onedrive\\desktop\\langchain lab\\.venv\\lib\\site-packages (from langchain-core<1.0.0,>=0.3.51->langchain_community) (1.33)\n",
      "Requirement already satisfied: packaging<25,>=23.2 in c:\\users\\itcc\\onedrive\\desktop\\langchain lab\\.venv\\lib\\site-packages (from langchain-core<1.0.0,>=0.3.51->langchain_community) (24.2)\n",
      "Requirement already satisfied: typing-extensions>=4.7 in c:\\users\\itcc\\onedrive\\desktop\\langchain lab\\.venv\\lib\\site-packages (from langchain-core<1.0.0,>=0.3.51->langchain_community) (4.13.2)\n",
      "Requirement already satisfied: httpx<1,>=0.23.0 in c:\\users\\itcc\\onedrive\\desktop\\langchain lab\\.venv\\lib\\site-packages (from langsmith<0.4,>=0.1.125->langchain_community) (0.28.1)\n",
      "Requirement already satisfied: orjson<4.0.0,>=3.9.14 in c:\\users\\itcc\\onedrive\\desktop\\langchain lab\\.venv\\lib\\site-packages (from langsmith<0.4,>=0.1.125->langchain_community) (3.10.16)\n",
      "Requirement already satisfied: requests-toolbelt<2.0.0,>=1.0.0 in c:\\users\\itcc\\onedrive\\desktop\\langchain lab\\.venv\\lib\\site-packages (from langsmith<0.4,>=0.1.125->langchain_community) (1.0.0)\n",
      "Requirement already satisfied: zstandard<0.24.0,>=0.23.0 in c:\\users\\itcc\\onedrive\\desktop\\langchain lab\\.venv\\lib\\site-packages (from langsmith<0.4,>=0.1.125->langchain_community) (0.23.0)\n",
      "Requirement already satisfied: python-dotenv>=0.21.0 in c:\\users\\itcc\\onedrive\\desktop\\langchain lab\\.venv\\lib\\site-packages (from pydantic-settings<3.0.0,>=2.4.0->langchain_community) (1.1.0)\n",
      "Requirement already satisfied: charset-normalizer<4,>=2 in c:\\users\\itcc\\onedrive\\desktop\\langchain lab\\.venv\\lib\\site-packages (from requests<3,>=2->langchain_community) (3.4.1)\n",
      "Requirement already satisfied: idna<4,>=2.5 in c:\\users\\itcc\\onedrive\\desktop\\langchain lab\\.venv\\lib\\site-packages (from requests<3,>=2->langchain_community) (3.10)\n",
      "Requirement already satisfied: urllib3<3,>=1.21.1 in c:\\users\\itcc\\onedrive\\desktop\\langchain lab\\.venv\\lib\\site-packages (from requests<3,>=2->langchain_community) (2.4.0)\n",
      "Requirement already satisfied: certifi>=2017.4.17 in c:\\users\\itcc\\onedrive\\desktop\\langchain lab\\.venv\\lib\\site-packages (from requests<3,>=2->langchain_community) (2025.1.31)\n",
      "Requirement already satisfied: greenlet>=1 in c:\\users\\itcc\\onedrive\\desktop\\langchain lab\\.venv\\lib\\site-packages (from SQLAlchemy<3,>=1.4->langchain_community) (3.1.1)\n",
      "Requirement already satisfied: anyio in c:\\users\\itcc\\onedrive\\desktop\\langchain lab\\.venv\\lib\\site-packages (from httpx<1,>=0.23.0->langsmith<0.4,>=0.1.125->langchain_community) (4.9.0)\n",
      "Requirement already satisfied: httpcore==1.* in c:\\users\\itcc\\onedrive\\desktop\\langchain lab\\.venv\\lib\\site-packages (from httpx<1,>=0.23.0->langsmith<0.4,>=0.1.125->langchain_community) (1.0.8)\n",
      "Requirement already satisfied: h11<0.15,>=0.13 in c:\\users\\itcc\\onedrive\\desktop\\langchain lab\\.venv\\lib\\site-packages (from httpcore==1.*->httpx<1,>=0.23.0->langsmith<0.4,>=0.1.125->langchain_community) (0.14.0)\n",
      "Requirement already satisfied: jsonpointer>=1.9 in c:\\users\\itcc\\onedrive\\desktop\\langchain lab\\.venv\\lib\\site-packages (from jsonpatch<2.0,>=1.33->langchain-core<1.0.0,>=0.3.51->langchain_community) (3.0.0)\n",
      "Requirement already satisfied: annotated-types>=0.6.0 in c:\\users\\itcc\\onedrive\\desktop\\langchain lab\\.venv\\lib\\site-packages (from pydantic<3.0.0,>=2.7.4->langchain<1.0.0,>=0.3.23->langchain_community) (0.7.0)\n",
      "Requirement already satisfied: pydantic-core==2.33.1 in c:\\users\\itcc\\onedrive\\desktop\\langchain lab\\.venv\\lib\\site-packages (from pydantic<3.0.0,>=2.7.4->langchain<1.0.0,>=0.3.23->langchain_community) (2.33.1)\n",
      "Requirement already satisfied: typing-inspection>=0.4.0 in c:\\users\\itcc\\onedrive\\desktop\\langchain lab\\.venv\\lib\\site-packages (from pydantic<3.0.0,>=2.7.4->langchain<1.0.0,>=0.3.23->langchain_community) (0.4.0)\n",
      "Requirement already satisfied: mypy-extensions>=0.3.0 in c:\\users\\itcc\\onedrive\\desktop\\langchain lab\\.venv\\lib\\site-packages (from typing-inspect<1,>=0.4.0->dataclasses-json<0.7,>=0.5.7->langchain_community) (1.0.0)\n",
      "Requirement already satisfied: sniffio>=1.1 in c:\\users\\itcc\\onedrive\\desktop\\langchain lab\\.venv\\lib\\site-packages (from anyio->httpx<1,>=0.23.0->langsmith<0.4,>=0.1.125->langchain_community) (1.3.1)\n"
     ]
    }
   ],
   "source": [
    "!pip install langchain_community"
   ]
  },
  {
   "cell_type": "code",
   "execution_count": 2,
   "id": "e92dff22",
   "metadata": {
    "tags": []
   },
   "outputs": [],
   "source": [
    "from langchain_openai import ChatOpenAI\n",
    "from langchain.prompts import ChatPromptTemplate\n",
    "from langchain.chains import LLMChain"
   ]
  },
  {
   "cell_type": "code",
   "execution_count": 11,
   "id": "943237a7",
   "metadata": {},
   "outputs": [],
   "source": [
    "#Replace None by your own value and justify\n",
    "llm = ChatOpenAI(temperature=0.2)\n"
   ]
  },
  {
   "cell_type": "code",
   "execution_count": 12,
   "id": "cdcdb42d",
   "metadata": {},
   "outputs": [],
   "source": [
    "prompt = ChatPromptTemplate.from_template( #Write a query that would take a variable to describe any product\n",
    "    \"Write a detailed description for the following product: {product}\"\n",
    " \n",
    ")"
   ]
  },
  {
   "cell_type": "code",
   "execution_count": 13,
   "id": "d7abc20b",
   "metadata": {},
   "outputs": [
    {
     "name": "stderr",
     "output_type": "stream",
     "text": [
      "C:\\Users\\ITCC\\AppData\\Local\\Temp\\ipykernel_10312\\546483037.py:1: LangChainDeprecationWarning: The class `LLMChain` was deprecated in LangChain 0.1.17 and will be removed in 1.0. Use :meth:`~RunnableSequence, e.g., `prompt | llm`` instead.\n",
      "  chain = LLMChain(llm=llm, prompt=prompt)\n"
     ]
    }
   ],
   "source": [
    "\n",
    "chain = LLMChain(llm=llm, prompt=prompt)"
   ]
  },
  {
   "cell_type": "code",
   "execution_count": 15,
   "id": "ad44d1fb",
   "metadata": {},
   "outputs": [
    {
     "name": "stderr",
     "output_type": "stream",
     "text": [
      "C:\\Users\\ITCC\\AppData\\Local\\Temp\\ipykernel_10312\\3248768099.py:3: LangChainDeprecationWarning: The method `Chain.run` was deprecated in langchain 0.1.0 and will be removed in 1.0. Use :meth:`~invoke` instead.\n",
      "  chain.run(product)\n"
     ]
    },
    {
     "data": {
      "text/plain": [
       "'This eco-friendly reusable water bottle is the perfect solution for staying hydrated on the go while also reducing your environmental impact. Made from high-quality, BPA-free materials, this water bottle is designed to last for years, eliminating the need for single-use plastic bottles.\\n\\nThe sleek and stylish design of this water bottle makes it a great accessory for any lifestyle. The wide mouth opening allows for easy filling and cleaning, while the secure screw-on lid ensures that your water stays fresh and leak-free. The durable construction of this water bottle means that it can withstand daily use and is perfect for taking to the gym, office, or on outdoor adventures.\\n\\nNot only is this water bottle good for the environment, but it is also good for your health. By using a reusable water bottle, you can avoid the harmful chemicals found in plastic bottles and ensure that you are drinking clean, filtered water wherever you go.\\n\\nSay goodbye to disposable plastic bottles and make the switch to this eco-friendly reusable water bottle today. Stay hydrated, reduce waste, and make a positive impact on the planet with this sustainable and convenient water bottle.'"
      ]
     },
     "execution_count": 15,
     "metadata": {},
     "output_type": "execute_result"
    }
   ],
   "source": [
    "#product = #Select a product type to be describe \n",
    "product = \"eco-friendly reusable water bottle\"\n",
    "chain.run(product)"
   ]
  },
  {
   "cell_type": "markdown",
   "id": "69b03469",
   "metadata": {},
   "source": [
    "## SimpleSequentialChain"
   ]
  },
  {
   "cell_type": "code",
   "execution_count": 9,
   "id": "febee243",
   "metadata": {},
   "outputs": [],
   "source": [
    "from langchain.chains import SimpleSequentialChain"
   ]
  },
  {
   "cell_type": "code",
   "execution_count": 17,
   "id": "2f31aa8a",
   "metadata": {},
   "outputs": [],
   "source": [
    "llm = ChatOpenAI(temperature=0.9)\n",
    "\n",
    "# prompt template 1\n",
    "first_prompt = ChatPromptTemplate.from_template(\n",
    "    #Repeat the initial query or create a new query that would feed into the second prompt\n",
    "    \"Create a basic description for a {product} including its key features\"\n",
    ")\n",
    "\n",
    "# Chain 1\n",
    "chain_one = LLMChain(llm=llm, prompt=first_prompt)"
   ]
  },
  {
   "cell_type": "code",
   "execution_count": 20,
   "id": "3f5d5b76",
   "metadata": {},
   "outputs": [],
   "source": [
    "\n",
    "# prompt template 2\n",
    "second_prompt = ChatPromptTemplate.from_template(\n",
    "    #Write the second prompt query that takes an input variable whose input will come from the previous prompt\"\n",
    "    \"Based on the following description, write an engaging marketing headline:\\n\\n{input}\"\n",
    ")\n",
    "# chain 2\n",
    "chain_two = LLMChain(llm=llm, prompt=second_prompt)"
   ]
  },
  {
   "cell_type": "code",
   "execution_count": null,
   "id": "6c1eb2c4",
   "metadata": {},
   "outputs": [],
   "source": [
    "overall_simple_chain = SimpleSequentialChain(chains=[chain_one, chain_two],\n",
    "                                             verbose=True\n",
    "                                            )"
   ]
  },
  {
   "cell_type": "code",
   "execution_count": 22,
   "id": "78458efe",
   "metadata": {},
   "outputs": [
    {
     "name": "stdout",
     "output_type": "stream",
     "text": [
      "\n",
      "\n",
      "\u001b[1m> Entering new SimpleSequentialChain chain...\u001b[0m\n",
      "\u001b[36;1m\u001b[1;3mIntroducing our eco-friendly reusable water bottle, perfect for reducing single-use plastic waste while staying hydrated on-the-go. Made from durable and BPA-free materials, this bottle is designed to last for years to come. The leak-proof lid ensures no spills in your bag or on your desk, while the wide-mouth opening makes it easy to fill and clean. With a sleek and modern design, this water bottle is perfect for the gym, office, or outdoor adventures. Say goodbye to disposable plastic bottles and make a sustainable choice with our reusable water bottle.\u001b[0m\n",
      "\u001b[33;1m\u001b[1;3m\"Sip sustainably with our durable and leak-proof reusable water bottle - the perfect eco-friendly companion for every adventure!\"\u001b[0m\n",
      "\n",
      "\u001b[1m> Finished chain.\u001b[0m\n"
     ]
    },
    {
     "data": {
      "text/plain": [
       "'\"Sip sustainably with our durable and leak-proof reusable water bottle - the perfect eco-friendly companion for every adventure!\"'"
      ]
     },
     "execution_count": 22,
     "metadata": {},
     "output_type": "execute_result"
    }
   ],
   "source": [
    "overall_simple_chain.run(product)"
   ]
  },
  {
   "cell_type": "markdown",
   "id": "0dd59bda-9d02-44e7-b3d6-2bec61b99d8f",
   "metadata": {},
   "source": [
    "**Repeat the above twice for different products**"
   ]
  },
  {
   "cell_type": "markdown",
   "id": "bd0f2859",
   "metadata": {},
   "source": [
    "product 1 "
   ]
  },
  {
   "cell_type": "code",
   "execution_count": 42,
   "id": "25ea3bcb",
   "metadata": {},
   "outputs": [
    {
     "name": "stdout",
     "output_type": "stream",
     "text": [
      "\n",
      "\n",
      "\u001b[1m> Entering new SimpleSequentialChain chain...\u001b[0m\n",
      "\u001b[36;1m\u001b[1;3mA Smart Thermostat is a cutting-edge device that provides convenient and energy-efficient control over the temperature of your home. This device can be easily controlled through a smartphone app, allowing you to adjust the settings from anywhere, at any time. \n",
      "\n",
      "Key features of a Smart Thermostat include:\n",
      "1. Energy-saving capabilities - The thermostat can learn your schedule and adjust the temperature accordingly to save energy and reduce utility bills.\n",
      "2. Remote access - You can control the thermostat remotely through a smartphone app, giving you the flexibility to adjust settings even when you are away from home.\n",
      "3. Compatibility with smart home systems - Many Smart Thermostats can be integrated with other smart home devices, creating a seamless and connected home automation system.\n",
      "4. Geofencing technology - The thermostat can use your smartphone's location to detect when you are near or away from home, adjusting the temperature accordingly.\n",
      "5. Voice control - Some Smart Thermostats are compatible with virtual assistants like Alexa or Google Assistant, allowing you to control the device with voice commands.\n",
      "6. Data tracking and reporting - The thermostat can provide detailed data on your energy usage and temperature settings, helping you to make informed decisions on how to optimize your home's heating and cooling systems.\u001b[0m\n",
      "\u001b[33;1m\u001b[1;3m\"Take Control of Your Home's Temperature with Our Smart Thermostat - Convenient, Energy-Efficient, and Easily Controlled from Anywhere!\"\u001b[0m\n",
      "\n",
      "\u001b[1m> Finished chain.\u001b[0m\n",
      "Product 1 Results (Smart Thermostat):\n",
      "\"Take Control of Your Home's Temperature with Our Smart Thermostat - Convenient, Energy-Efficient, and Easily Controlled from Anywhere!\"\n"
     ]
    }
   ],
   "source": [
    "\n",
    "llm = ChatOpenAI(temperature=0.9)\n",
    "\n",
    "#(Smart Thermostat)\n",
    "product1 = \"Smart Thermostat\"\n",
    "\n",
    "# Prompt template 1: Create a basic description\n",
    "first_prompt1 = ChatPromptTemplate.from_template(\n",
    "    \"Create a basic description for a {product} including its key features\"\n",
    ")\n",
    "\n",
    "# Chain 1 for product 1\n",
    "chain_one1 = LLMChain(llm=llm, prompt=first_prompt1)\n",
    "\n",
    "# Prompt template 2: Write an engaging marketing headline\n",
    "second_prompt1 = ChatPromptTemplate.from_template(\n",
    "    \"Based on the following description, write an engaging marketing headline:\\n\\n{input}\"\n",
    ")\n",
    "\n",
    "# Chain 2 for product 1\n",
    "chain_two1 = LLMChain(llm=llm, prompt=second_prompt1)\n",
    "\n",
    "# Overall simple chain for product 1\n",
    "overall_simple_chain1 = SimpleSequentialChain(chains=[chain_one1, chain_two1], verbose=True)\n",
    "\n",
    "# Run the overall chain for product 1\n",
    "result1 = overall_simple_chain1.run(product1)\n",
    "\n",
    "print(\"Product 1 Results (Smart Thermostat):\")\n",
    "print(result1)\n"
   ]
  },
  {
   "cell_type": "markdown",
   "id": "b43ec610",
   "metadata": {},
   "source": [
    "product 2 "
   ]
  },
  {
   "cell_type": "code",
   "execution_count": 43,
   "id": "a6ce5a55",
   "metadata": {},
   "outputs": [
    {
     "name": "stdout",
     "output_type": "stream",
     "text": [
      "\n",
      "\n",
      "\u001b[1m> Entering new SimpleSequentialChain chain...\u001b[0m\n",
      "\u001b[36;1m\u001b[1;3mThe Portable Bluetooth Speaker is a compact and lightweight device that allows you to enjoy your favorite music on-the-go. It connects wirelessly to your smartphone, tablet, or other Bluetooth-enabled devices, giving you the freedom to move around without being tethered to cords. \n",
      "\n",
      "Key features include:\n",
      "\n",
      "1. High-quality sound: Despite its small size, the Portable Bluetooth Speaker delivers powerful and clear sound, making it perfect for listening to music, podcasts, or taking calls.\n",
      "\n",
      "2. Long battery life: With a built-in rechargeable battery, you can enjoy hours of music playback without needing to constantly charge the speaker.\n",
      "\n",
      "3. Portable design: The sleek and compact design of the speaker makes it easy to take with you wherever you go – whether it's to the beach, park, or a friend's house.\n",
      "\n",
      "4. Easy to use: The speaker features simple and intuitive controls for adjusting volume, skipping tracks, and answering calls.\n",
      "\n",
      "5. Waterproof and durable: Some Portable Bluetooth Speakers are designed to be waterproof and are built to withstand rough handling, making them ideal for outdoor use.\n",
      "\n",
      "Overall, the Portable Bluetooth Speaker is a versatile and convenient accessory for anyone who loves music and wants to bring their favorite tunes with them wherever they go.\u001b[0m\n",
      "\u001b[33;1m\u001b[1;3m\"Unleash the Music Anywhere with Our Portable Bluetooth Speaker - Powerful Sound, Long Battery Life, and Waterproof Design for On-the-Go Entertainment!\"\u001b[0m\n",
      "\n",
      "\u001b[1m> Finished chain.\u001b[0m\n",
      "Product 2 Results (Portable Bluetooth Speaker):\n",
      "\"Unleash the Music Anywhere with Our Portable Bluetooth Speaker - Powerful Sound, Long Battery Life, and Waterproof Design for On-the-Go Entertainment!\"\n"
     ]
    }
   ],
   "source": [
    "llm = ChatOpenAI(temperature=0.9)\n",
    "\n",
    "#(Portable Bluetooth Speaker)\n",
    "product2 = \"Portable Bluetooth Speaker\"\n",
    "\n",
    "# Prompt template 1: Create a basic description\n",
    "first_prompt2 = ChatPromptTemplate.from_template(\n",
    "    \"Create a basic description for a {product} including its key features\"\n",
    ")\n",
    "\n",
    "# Chain 1 for product 2\n",
    "chain_one2 = LLMChain(llm=llm, prompt=first_prompt2)\n",
    "\n",
    "# Prompt template 2: Write an engaging marketing headline\n",
    "second_prompt2 = ChatPromptTemplate.from_template(\n",
    "    \"Based on the following description, write an engaging marketing headline:\\n\\n{input}\"\n",
    ")\n",
    "\n",
    "# Chain 2 for product 2\n",
    "chain_two2 = LLMChain(llm=llm, prompt=second_prompt2)\n",
    "\n",
    "# Overall simple chain for product 2\n",
    "overall_simple_chain2 = SimpleSequentialChain(chains=[chain_one2, chain_two2], verbose=True)\n",
    "\n",
    "# Run the overall chain for product 2\n",
    "result2 = overall_simple_chain2.run(product2)\n",
    "\n",
    "print(\"Product 2 Results (Portable Bluetooth Speaker):\")\n",
    "print(result2)\n"
   ]
  },
  {
   "cell_type": "markdown",
   "id": "7b5ce18c",
   "metadata": {},
   "source": [
    "## SequentialChain"
   ]
  },
  {
   "cell_type": "code",
   "execution_count": 23,
   "id": "4c129ef6",
   "metadata": {},
   "outputs": [],
   "source": [
    "from langchain.chains import SequentialChain"
   ]
  },
  {
   "cell_type": "code",
   "execution_count": 25,
   "id": "016187ac",
   "metadata": {},
   "outputs": [],
   "source": [
    "llm = ChatOpenAI(temperature=0.9)\n",
    "\n",
    "\n",
    "first_prompt = ChatPromptTemplate.from_template(\n",
    "  #This prompt should translate a review\n",
    "  \"Translate the following review into Arabic:\\n\\n{review}\"\n",
    ")\n",
    "\n",
    "chain_one = LLMChain(llm=llm, prompt=first_prompt, \n",
    "                     output_key=\"translated_review\" #Give a name to your output\n",
    "                    )\n"
   ]
  },
  {
   "cell_type": "code",
   "execution_count": 26,
   "id": "0fb0730e",
   "metadata": {},
   "outputs": [],
   "source": [
    "second_prompt = ChatPromptTemplate.from_template(\n",
    "    #Write a promplt to summarize a review\n",
    "    \"Summarize the following review in a short paragraph:\\n\\n{review}\"\n",
    ")\n",
    "\n",
    "chain_two = LLMChain(llm=llm, prompt=second_prompt, \n",
    "                     output_key=\"summarized_review\" #give a name to this output\n",
    "                    )\n"
   ]
  },
  {
   "cell_type": "code",
   "execution_count": 28,
   "id": "6accf92d",
   "metadata": {},
   "outputs": [],
   "source": [
    "# prompt template 3: translate to english or other language\n",
    "third_prompt = ChatPromptTemplate.from_template(\n",
    "    \"Translate the following review into English:\\n\\n{review}\"\n",
    ")\n",
    "# chain 3: input= Review and output= language\n",
    "chain_three = LLMChain(llm=llm, prompt=third_prompt,\n",
    "                       output_key=\"translated_to_english\"\n",
    "                      )\n"
   ]
  },
  {
   "cell_type": "code",
   "execution_count": 29,
   "id": "c7a46121",
   "metadata": {},
   "outputs": [],
   "source": [
    "\n",
    "# prompt template 4: follow up message that take as inputs the two previous prompts' variables\n",
    "fourth_prompt = ChatPromptTemplate.from_template(\n",
    "        \"Based on the translated review and its summary, write a follow-up message:\\n\\n\"\n",
    "    \"Translated Review: {translated_review}\\n\"\n",
    "    \"Summarized Review: {summarized_review}\\n\"\n",
    "    \"Follow-up Message: \"\n",
    ")\n",
    "chain_four = LLMChain(llm=llm, prompt=fourth_prompt,\n",
    "                      output_key=\"follow_up_message\"\n",
    "                     )\n"
   ]
  },
  {
   "cell_type": "code",
   "execution_count": 31,
   "id": "89603117",
   "metadata": {},
   "outputs": [],
   "source": [
    "# overall_chain: input= Review \n",
    "# and output= English_Review,summary, followup_message\n",
    "overall_chain = SequentialChain(\n",
    "    chains=[chain_one, chain_two, chain_three, chain_four],\n",
    "    input_variables=[\"review\"],\n",
    "    output_variables=[\"translated_review\", \"summarized_review\", \"follow_up_message\"],\n",
    "    verbose=True\n",
    ")"
   ]
  },
  {
   "cell_type": "code",
   "execution_count": 32,
   "id": "51b04f45",
   "metadata": {},
   "outputs": [
    {
     "name": "stderr",
     "output_type": "stream",
     "text": [
      "C:\\Users\\ITCC\\AppData\\Local\\Temp\\ipykernel_10312\\1992003631.py:2: LangChainDeprecationWarning: The method `Chain.__call__` was deprecated in langchain 0.1.0 and will be removed in 1.0. Use :meth:`~invoke` instead.\n",
      "  overall_chain(review)\n"
     ]
    },
    {
     "name": "stdout",
     "output_type": "stream",
     "text": [
      "\n",
      "\n",
      "\u001b[1m> Entering new SequentialChain chain...\u001b[0m\n",
      "\n",
      "\u001b[1m> Finished chain.\u001b[0m\n"
     ]
    },
    {
     "data": {
      "text/plain": [
       "{'review': \"Je trouve le goût médiocre. La mousse ne tient pas, c'est bizarre. J'achète les mêmes dans le commerce et le goût est bien meilleur...\\nVieux lot ou contrefaçon !?\",\n",
       " 'translated_review': 'أجد المذاق سيئًا. لا تدوم الرغوة ، هذا أمر غريب. أشتري نفس الأشياء من المتجر والطعم أفضل بكثير...\\nهل هو دفعة قديمة أم تقليد !؟',\n",
       " 'summarized_review': \"L'auteur de la critique trouve que le goût de ce produit est médiocre et que la mousse ne tient pas, ce qui est étrange. Il affirme avoir acheté des produits similaires en magasin avec un goût bien meilleur. Il se demande s'il s'agit d'un vieux lot ou d'une contrefaçon.\",\n",
       " 'follow_up_message': 'Dear valued customer,\\n\\nThank you for taking the time to share your feedback about our product. We apologize that you found the taste to be unpleasant and that the foam did not last as expected. We take customer reviews very seriously and would like to assure you that our products are not old batches or counterfeit.\\n\\nPlease feel free to reach out to our customer service team with more details about your experience so we can investigate further and ensure the quality of our products.\\n\\nThank you for your continued support.\\n\\nSincerely,\\n[Company Name] Customer Service Team'}"
      ]
     },
     "execution_count": 32,
     "metadata": {},
     "output_type": "execute_result"
    }
   ],
   "source": [
    "review = df.Review[5]\n",
    "overall_chain(review)"
   ]
  },
  {
   "cell_type": "markdown",
   "id": "3187cf07-458a-4226-bec7-3dec7ee47af2",
   "metadata": {},
   "source": [
    "**Repeat the above twice for different products or reviews**"
   ]
  },
  {
   "cell_type": "markdown",
   "id": "900ce08e",
   "metadata": {},
   "source": [
    "product 1"
   ]
  },
  {
   "cell_type": "code",
   "execution_count": null,
   "id": "6ae378d6",
   "metadata": {},
   "outputs": [
    {
     "name": "stderr",
     "output_type": "stream",
     "text": [
      "C:\\Users\\ITCC\\AppData\\Local\\Temp\\ipykernel_10312\\752604322.py:6: LangChainDeprecationWarning: The class `ChatOpenAI` was deprecated in LangChain 0.0.10 and will be removed in 1.0. An updated version of the class exists in the :class:`~langchain-openai package and should be used instead. To use it run `pip install -U :class:`~langchain-openai` and import as `from :class:`~langchain_openai import ChatOpenAI``.\n",
      "  llm = ChatOpenAI(temperature=0.9)\n"
     ]
    }
   ],
   "source": [
    "llm = ChatOpenAI(temperature=0.9)\n",
    "\n",
    "# Product Description for Bluetooth Wireless Headphones\n",
    "product_description = \"Experience ultimate sound quality and freedom with our Bluetooth wireless headphones. These headphones offer crystal-clear audio, a comfortable over-ear design, and long-lasting battery life for hours of non-stop listening. Whether you're working out, commuting, or relaxing at home, these headphones provide the perfect fit for any occasion. With noise-cancelling technology, you can block out distractions and enjoy your music, podcasts, or calls with unparalleled clarity. Plus, the foldable design makes them easy to store and take on the go.\"\n"
   ]
  },
  {
   "cell_type": "code",
   "execution_count": 34,
   "id": "cb7ad9d4",
   "metadata": {},
   "outputs": [],
   "source": [
    "#Prompt 1: Translate the review into Arabic\n",
    "first_prompt = ChatPromptTemplate.from_template(\n",
    "    \"Translate the following review into Arabic:\\n\\n{review}\"\n",
    ")\n",
    "\n",
    "# Chain 1\n",
    "chain_one = LLMChain(llm=llm, prompt=first_prompt, output_key=\"arabic_review\")"
   ]
  },
  {
   "cell_type": "code",
   "execution_count": 35,
   "id": "56687a3a",
   "metadata": {},
   "outputs": [],
   "source": [
    "# Prompt 2: Summarize the review\n",
    "second_prompt = ChatPromptTemplate.from_template(\n",
    "    \"Summarize the following review:\\n\\n{review}\"\n",
    ")\n",
    "\n",
    "# Chain 2\n",
    "chain_two = LLMChain(llm=llm, prompt=second_prompt, output_key=\"summary\")"
   ]
  },
  {
   "cell_type": "code",
   "execution_count": 36,
   "id": "17bd1e3b",
   "metadata": {},
   "outputs": [],
   "source": [
    "# Prompt 3: Translate to English\n",
    "third_prompt = ChatPromptTemplate.from_template(\n",
    "    \"Translate the following review back to English:\\n\\n{review}\"\n",
    ")\n",
    "\n",
    "# Chain 3\n",
    "chain_three = LLMChain(llm=llm, prompt=third_prompt, output_key=\"english_review\")"
   ]
  },
  {
   "cell_type": "code",
   "execution_count": 37,
   "id": "6313e279",
   "metadata": {},
   "outputs": [],
   "source": [
    "#Prompt 4: Follow-up Message\n",
    "fourth_prompt = ChatPromptTemplate.from_template(\n",
    "    \"Based on the following review summary, write a follow-up message:\\n\\n{summary}\"\n",
    ")\n",
    "\n",
    "# Chain 4\n",
    "chain_four = LLMChain(llm=llm, prompt=fourth_prompt, output_key=\"followup_message\")\n"
   ]
  },
  {
   "cell_type": "code",
   "execution_count": 38,
   "id": "e8e63a6a",
   "metadata": {},
   "outputs": [],
   "source": [
    "overall_chain = SequentialChain(\n",
    "    chains=[chain_one, chain_two, chain_three, chain_four],\n",
    "    input_variables=[\"review\"],\n",
    "    output_variables=[\"arabic_review\", \"summary\", \"english_review\", \"followup_message\"],\n",
    "    verbose=True\n",
    ")"
   ]
  },
  {
   "cell_type": "code",
   "execution_count": 40,
   "id": "5cf7c543",
   "metadata": {},
   "outputs": [
    {
     "name": "stdout",
     "output_type": "stream",
     "text": [
      "\n",
      "\n",
      "\u001b[1m> Entering new SequentialChain chain...\u001b[0m\n",
      "\n",
      "\u001b[1m> Finished chain.\u001b[0m\n"
     ]
    }
   ],
   "source": [
    "output = overall_chain.invoke({\"review\": review})"
   ]
  },
  {
   "cell_type": "code",
   "execution_count": 41,
   "id": "242fc0de",
   "metadata": {},
   "outputs": [
    {
     "name": "stdout",
     "output_type": "stream",
     "text": [
      "Arabic Review: أجد الطعم سيء. الرغوة لا تحتفظ، هذا غريب. أشتري نفس المنتجات من المتاجر والطعم أفضل بكثير... هل هي دفعة قديمة أم تقليدية؟\n",
      "Summary: The reviewer finds the taste poor and the foam does not hold well. They suspect the product may be old or counterfeit compared to ones purchased from other stores which taste much better.\n",
      "English Review: I find the taste mediocre. The foam doesn't hold, it's weird. I buy the same ones in stores and the taste is much better... Old batch or counterfeit!?\n",
      "Follow-up Message: Dear valued customer,\n",
      "\n",
      "Thank you for taking the time to share your feedback with us. We are sorry to hear that you were not satisfied with your recent purchase. We value the quality of our products and strive to ensure that our customers receive only the best. \n",
      "\n",
      "We would like to assure you that we take your concerns very seriously and we are looking into this matter further. Please feel free to reach out to us directly with any additional information or details that may help us investigate this issue.\n",
      "\n",
      "We appreciate your support and hope to have the opportunity to make this right for you in the future.\n",
      "\n",
      "Sincerely,\n",
      "[Your Company Name]\n"
     ]
    }
   ],
   "source": [
    "print(\"Arabic Review:\", output[\"arabic_review\"])\n",
    "print(\"Summary:\", output[\"summary\"])\n",
    "print(\"English Review:\", output[\"english_review\"])\n",
    "print(\"Follow-up Message:\", output[\"followup_message\"])"
   ]
  },
  {
   "cell_type": "markdown",
   "id": "87455067",
   "metadata": {},
   "source": [
    "product 2 "
   ]
  },
  {
   "cell_type": "code",
   "execution_count": 16,
   "id": "426f91d5",
   "metadata": {},
   "outputs": [],
   "source": [
    "llm = ChatOpenAI(temperature=0.9)\n",
    "product_description = \"Stay connected and track your health with the SmartFit Pro smartwatch. This sleek and stylish wearable features real-time heart rate monitoring, step tracking, sleep analysis, and message notifications right on your wrist. With a durable waterproof design and long battery life, it's perfect for fitness enthusiasts and everyday users alike. Compatible with both iOS and Android devices, SmartFit Pro makes it easy to stay on top of your goals wherever you go.\"\n",
    "review = \"I’ve been using the SmartFit Pro for over a month now and I’m genuinely impressed. It’s super light, doesn’t feel bulky, and the battery lasts me nearly a week. The heart rate tracker seems accurate, and I love how it tracks my sleep automatically. I only wish the screen was a bit brighter under sunlight. Still, for the price, it’s a fantastic smartwatch.\""
   ]
  },
  {
   "cell_type": "code",
   "execution_count": 4,
   "id": "c1f531d8",
   "metadata": {},
   "outputs": [
    {
     "name": "stderr",
     "output_type": "stream",
     "text": [
      "C:\\Users\\ITCC\\AppData\\Local\\Temp\\ipykernel_10184\\1436282725.py:5: LangChainDeprecationWarning: The class `LLMChain` was deprecated in LangChain 0.1.17 and will be removed in 1.0. Use :meth:`~RunnableSequence, e.g., `prompt | llm`` instead.\n",
      "  chain_one = LLMChain(llm=llm, prompt=first_prompt, output_key=\"arabic_review\")\n"
     ]
    }
   ],
   "source": [
    "# Prompt 1: Translate to Arabic\n",
    "first_prompt = ChatPromptTemplate.from_template(\n",
    "    \"Translate the following review into Arabic:\\n\\n{review}\"\n",
    ")\n",
    "chain_one = LLMChain(llm=llm, prompt=first_prompt, output_key=\"arabic_review\")"
   ]
  },
  {
   "cell_type": "code",
   "execution_count": 5,
   "id": "1af94c7e",
   "metadata": {},
   "outputs": [],
   "source": [
    "# Prompt 2: Summarize\n",
    "second_prompt = ChatPromptTemplate.from_template(\n",
    "    \"Summarize the following review:\\n\\n{review}\"\n",
    ")\n",
    "chain_two = LLMChain(llm=llm, prompt=second_prompt, output_key=\"summary\")"
   ]
  },
  {
   "cell_type": "code",
   "execution_count": 6,
   "id": "b2bfacb6",
   "metadata": {},
   "outputs": [],
   "source": [
    "# Prompt 3: Translate back to English\n",
    "third_prompt = ChatPromptTemplate.from_template(\n",
    "    \"Translate the following review back to English:\\n\\n{review}\"\n",
    ")\n",
    "chain_three = LLMChain(llm=llm, prompt=third_prompt, output_key=\"english_review\")"
   ]
  },
  {
   "cell_type": "code",
   "execution_count": 7,
   "id": "0f54492c",
   "metadata": {},
   "outputs": [],
   "source": [
    "# Prompt 4: Follow-up message\n",
    "fourth_prompt = ChatPromptTemplate.from_template(\n",
    "    \"Based on the following review summary, write a follow-up message:\\n\\n{summary}\"\n",
    ")\n",
    "chain_four = LLMChain(llm=llm, prompt=fourth_prompt, output_key=\"followup_message\")"
   ]
  },
  {
   "cell_type": "code",
   "execution_count": 13,
   "id": "c64ffc95",
   "metadata": {},
   "outputs": [],
   "source": [
    "from langchain.chains import SequentialChain\n",
    "\n",
    "overall_chain = SequentialChain(\n",
    "    chains=[chain_one, chain_two, chain_three, chain_four],\n",
    "    input_variables=[\"review\"],\n",
    "    output_variables=[\"arabic_review\", \"summary\", \"english_review\", \"followup_message\"],\n",
    "    verbose=True\n",
    ")\n"
   ]
  },
  {
   "cell_type": "code",
   "execution_count": null,
   "id": "a5081ac8",
   "metadata": {},
   "outputs": [
    {
     "name": "stdout",
     "output_type": "stream",
     "text": [
      "\n",
      "\n",
      "\u001b[1m> Entering new SequentialChain chain...\u001b[0m\n",
      "\n",
      "\u001b[1m> Finished chain.\u001b[0m\n"
     ]
    }
   ],
   "source": [
    "output = overall_chain.invoke({\"review\": review})"
   ]
  },
  {
   "cell_type": "code",
   "execution_count": 17,
   "id": "36b3fba6",
   "metadata": {},
   "outputs": [
    {
     "name": "stdout",
     "output_type": "stream",
     "text": [
      "Arabic Review: لقد كنت استخدم SmartFit Pro لأكثر من شهر الآن وأنا معجب حقًا. إنه خفيف للغاية ولا يبدو ضخمًا، والبطارية تدوم لي ما يقرب من أسبوع. يبدو تتبع معدل ضربات القلب دقيقًا، وأنا أحب كيف يتتبع نومي تلقائيًا. أتمنى فقط أن يكون الشاشة أكثر سطوعًا تحت أشعة الشمس. لكن، بالنسبة للسعر، إنه ساعة ذكية رائعة.\n",
      "Summary: The reviewer has been using the SmartFit Pro for over a month and is impressed with its lightness, battery life, accuracy of heart rate tracking, and automatic sleep tracking. The only complaint is that the screen is not bright enough in sunlight, but overall it is considered a fantastic smartwatch for the price.\n",
      "English Review: I have been using the SmartFit Pro for more than a month now and I am really impressed. It is super light, does not feel bulky, and the battery lasts me almost a week. The heart rate monitor seems accurate, and I love how it automatically tracks my sleep. I just wish the screen was a little brighter in sunlight. Still, for the price, it is a fantastic smartwatch.\n",
      "Follow-up Message: Dear [Reviewer],\n",
      "\n",
      "Thank you for taking the time to share your feedback on the SmartFit Pro. We are thrilled to hear that you have been enjoying its lightness, long battery life, accurate heart rate tracking, and automatic sleep tracking features. We appreciate your feedback regarding the screen brightness in sunlight and will take that into consideration for future product improvements.\n",
      "\n",
      "If you have any further comments or suggestions, please do not hesitate to reach out. We value your input and are committed to providing high-quality products that meet our customers' needs.\n",
      "\n",
      "Thank you again for your review and for choosing the SmartFit Pro.\n",
      "\n",
      "Best regards,\n",
      "[Your Name]\n"
     ]
    }
   ],
   "source": [
    "print(\"Arabic Review:\", output[\"arabic_review\"])\n",
    "print(\"Summary:\", output[\"summary\"])\n",
    "print(\"English Review:\", output[\"english_review\"])\n",
    "print(\"Follow-up Message:\", output[\"followup_message\"])"
   ]
  },
  {
   "cell_type": "markdown",
   "id": "3041ea4c",
   "metadata": {},
   "source": [
    "## Router Chain"
   ]
  },
  {
   "cell_type": "code",
   "execution_count": 45,
   "id": "ade83f4f",
   "metadata": {},
   "outputs": [],
   "source": [
    "physics_template = \"\"\"You are a very smart physics professor. \\\n",
    "You are great at answering questions about physics in a concise\\\n",
    "and easy to understand manner. \\\n",
    "When you don't know the answer to a question you admit\\\n",
    "that you don't know.\n",
    "\n",
    "Here is a question:\n",
    "{input}\"\"\"\n",
    "\n",
    "\n",
    "math_template = \"\"\"You are a very good mathematician. \\\n",
    "You are great at answering math questions. \\\n",
    "You are so good because you are able to break down \\\n",
    "hard problems into their component parts, \n",
    "answer the component parts, and then put them together\\\n",
    "to answer the broader question.\n",
    "\n",
    "Here is a question:\n",
    "{input}\"\"\"\n",
    "\n",
    "history_template = \"\"\"You are a very good historian. \\\n",
    "You have an excellent knowledge of and understanding of people,\\\n",
    "events and contexts from a range of historical periods. \\\n",
    "You have the ability to think, reflect, debate, discuss and \\\n",
    "evaluate the past. You have a respect for historical evidence\\\n",
    "and the ability to make use of it to support your explanations \\\n",
    "and judgements.\n",
    "\n",
    "Here is a question:\n",
    "{input}\"\"\"\n",
    "\n",
    "\n",
    "computerscience_template = \"\"\" You are a successful computer scientist.\\\n",
    "You have a passion for creativity, collaboration,\\\n",
    "forward-thinking, confidence, strong problem-solving capabilities,\\\n",
    "understanding of theories and algorithms, and excellent communication \\\n",
    "skills. You are great at answering coding questions. \\\n",
    "You are so good because you know how to solve a problem by \\\n",
    "describing the solution in imperative steps \\\n",
    "that a machine can easily interpret and you know how to \\\n",
    "choose a solution that has a good balance between \\\n",
    "time complexity and space complexity. \n",
    "\n",
    "Here is a question:\n",
    "{input}\"\"\"\n",
    "\n",
    "biology_template = \"\"\"You are an excellent biologist. \\\n",
    "You have a deep understanding of living organisms, \\\n",
    "from the molecular and cellular level to entire ecosystems. \\\n",
    "You are skilled at observing patterns in nature, analyzing biological data, \\\n",
    "and explaining complex processes like evolution, genetics, physiology, and ecology. \\\n",
    "You can clearly communicate how life functions and adapts, \\\n",
    "and you make connections between different biological concepts \\\n",
    "to answer challenging questions.\n",
    "\n",
    "Here is a question:\n",
    "{input}\"\"\""
   ]
  },
  {
   "cell_type": "code",
   "execution_count": 46,
   "id": "5f590e9f",
   "metadata": {},
   "outputs": [],
   "source": [
    "prompt_infos = [\n",
    "    {\n",
    "        \"name\": \"physics\", \n",
    "        \"description\": \"Good for answering questions about physics\", \n",
    "        \"prompt_template\": physics_template\n",
    "    },\n",
    "    {\n",
    "        \"name\": \"math\", \n",
    "        \"description\": \"Good for answering math questions\", \n",
    "        \"prompt_template\": math_template\n",
    "    },\n",
    "    {\n",
    "        \"name\": \"History\", \n",
    "        \"description\": \"Good for answering history questions\", \n",
    "        \"prompt_template\": history_template\n",
    "    },\n",
    "    {\n",
    "        \"name\": \"computer science\", \n",
    "        \"description\": \"Good for answering computer science questions\", \n",
    "        \"prompt_template\": computerscience_template\n",
    "    },\n",
    "    {\n",
    "        \"name\": \"biology\",\n",
    "        \"description\": \"Good for answering biology questions\",\n",
    "        \"prompt_template\": biology_template\n",
    "    }\n",
    "]"
   ]
  },
  {
   "cell_type": "code",
   "execution_count": 47,
   "id": "31b06fc8",
   "metadata": {},
   "outputs": [],
   "source": [
    "from langchain.chains.router import MultiPromptChain\n",
    "from langchain.chains.router.llm_router import LLMRouterChain,RouterOutputParser\n",
    "from langchain.prompts import PromptTemplate"
   ]
  },
  {
   "cell_type": "code",
   "execution_count": 48,
   "id": "f3f50bcc",
   "metadata": {},
   "outputs": [],
   "source": [
    "llm = ChatOpenAI(temperature=0)"
   ]
  },
  {
   "cell_type": "code",
   "execution_count": 49,
   "id": "8eefec24",
   "metadata": {},
   "outputs": [],
   "source": [
    "destination_chains = {}\n",
    "for p_info in prompt_infos:\n",
    "    name = p_info[\"name\"]\n",
    "    prompt_template = p_info[\"prompt_template\"]\n",
    "    prompt = ChatPromptTemplate.from_template(template=prompt_template)\n",
    "    chain = LLMChain(llm=llm, prompt=prompt)\n",
    "    destination_chains[name] = chain  \n",
    "    \n",
    "destinations = [f\"{p['name']}: {p['description']}\" for p in prompt_infos]\n",
    "destinations_str = \"\\n\".join(destinations)"
   ]
  },
  {
   "cell_type": "code",
   "execution_count": 50,
   "id": "9f98018a",
   "metadata": {},
   "outputs": [],
   "source": [
    "default_prompt = ChatPromptTemplate.from_template(\"{input}\")\n",
    "default_chain = LLMChain(llm=llm, prompt=default_prompt)"
   ]
  },
  {
   "cell_type": "code",
   "execution_count": 51,
   "id": "11b2e2ba",
   "metadata": {},
   "outputs": [],
   "source": [
    "MULTI_PROMPT_ROUTER_TEMPLATE = \"\"\"Given a raw text input to a \\\n",
    "language model select the model prompt best suited for the input. \\\n",
    "You will be given the names of the available prompts and a \\\n",
    "description of what the prompt is best suited for. \\\n",
    "You may also revise the original input if you think that revising\\\n",
    "it will ultimately lead to a better response from the language model.\n",
    "\n",
    "<< FORMATTING >>\n",
    "Return a markdown code snippet with a JSON object formatted to look like:\n",
    "```json\n",
    "{{{{\n",
    "    \"destination\": string \\ name of the prompt to use or \"DEFAULT\"\n",
    "    \"next_inputs\": string \\ a potentially modified version of the original input\n",
    "}}}}\n",
    "```\n",
    "\n",
    "REMEMBER: \"destination\" MUST be one of the candidate prompt \\\n",
    "names specified below OR it can be \"DEFAULT\" if the input is not\\\n",
    "well suited for any of the candidate prompts.\n",
    "REMEMBER: \"next_inputs\" can just be the original input \\\n",
    "if you don't think any modifications are needed.\n",
    "\n",
    "<< CANDIDATE PROMPTS >>\n",
    "{destinations}\n",
    "\n",
    "<< INPUT >>\n",
    "{{input}}\n",
    "\n",
    "<< OUTPUT (remember to include the ```json)>>\"\"\""
   ]
  },
  {
   "cell_type": "code",
   "execution_count": 52,
   "id": "1387109d",
   "metadata": {},
   "outputs": [],
   "source": [
    "router_template = MULTI_PROMPT_ROUTER_TEMPLATE.format(\n",
    "    destinations=destinations_str\n",
    ")\n",
    "router_prompt = PromptTemplate(\n",
    "    template=router_template,\n",
    "    input_variables=[\"input\"],\n",
    "    output_parser=RouterOutputParser(),\n",
    ")\n",
    "\n",
    "router_chain = LLMRouterChain.from_llm(llm, router_prompt)"
   ]
  },
  {
   "cell_type": "code",
   "execution_count": 53,
   "id": "2fb7d560",
   "metadata": {},
   "outputs": [
    {
     "name": "stderr",
     "output_type": "stream",
     "text": [
      "C:\\Users\\ITCC\\AppData\\Local\\Temp\\ipykernel_10312\\3038952769.py:1: LangChainDeprecationWarning: Please see migration guide here for recommended implementation: https://python.langchain.com/docs/versions/migrating_chains/multi_prompt_chain/\n",
      "  chain = MultiPromptChain(router_chain=router_chain,\n"
     ]
    }
   ],
   "source": [
    "chain = MultiPromptChain(router_chain=router_chain, \n",
    "                         destination_chains=destination_chains, \n",
    "                         default_chain=default_chain, verbose=True\n",
    "                        )"
   ]
  },
  {
   "cell_type": "code",
   "execution_count": 54,
   "id": "d86b2131",
   "metadata": {},
   "outputs": [
    {
     "name": "stdout",
     "output_type": "stream",
     "text": [
      "\n",
      "\n",
      "\u001b[1m> Entering new MultiPromptChain chain...\u001b[0m\n",
      "physics: {'input': 'What is black body radiation?'}\n",
      "\u001b[1m> Finished chain.\u001b[0m\n"
     ]
    },
    {
     "data": {
      "text/plain": [
       "\"Black body radiation refers to the electromagnetic radiation emitted by a perfect black body, which is an idealized physical body that absorbs all incident electromagnetic radiation. The radiation emitted by a black body depends only on its temperature and follows a specific distribution known as Planck's law. This radiation is characterized by a continuous spectrum of wavelengths and intensities, with the peak intensity shifting to shorter wavelengths as the temperature of the black body increases. Black body radiation plays a key role in understanding concepts such as thermal radiation and the quantization of energy in quantum mechanics.\""
      ]
     },
     "execution_count": 54,
     "metadata": {},
     "output_type": "execute_result"
    }
   ],
   "source": [
    "chain.run(\"What is black body radiation?\")"
   ]
  },
  {
   "cell_type": "code",
   "execution_count": 55,
   "id": "3b717379",
   "metadata": {},
   "outputs": [
    {
     "name": "stdout",
     "output_type": "stream",
     "text": [
      "\n",
      "\n",
      "\u001b[1m> Entering new MultiPromptChain chain...\u001b[0m\n",
      "math: {'input': 'what is 2 + 2'}\n",
      "\u001b[1m> Finished chain.\u001b[0m\n"
     ]
    },
    {
     "data": {
      "text/plain": [
       "'2 + 2 is equal to 4.'"
      ]
     },
     "execution_count": 55,
     "metadata": {},
     "output_type": "execute_result"
    }
   ],
   "source": [
    "chain.run(\"what is 2 + 2\")"
   ]
  },
  {
   "cell_type": "code",
   "execution_count": 56,
   "id": "29e5be01",
   "metadata": {},
   "outputs": [
    {
     "name": "stdout",
     "output_type": "stream",
     "text": [
      "\n",
      "\n",
      "\u001b[1m> Entering new MultiPromptChain chain...\u001b[0m\n",
      "biology: {'input': 'Why does every cell in our body contain DNA?'}\n",
      "\u001b[1m> Finished chain.\u001b[0m\n"
     ]
    },
    {
     "data": {
      "text/plain": [
       "'Every cell in our body contains DNA because DNA is the genetic material that carries the instructions for the development, functioning, and reproduction of all living organisms. DNA contains the information needed to build and maintain an organism, including the proteins that make up our cells and tissues. \\n\\nHaving DNA in every cell ensures that each cell has the necessary genetic information to carry out its specific functions and to replicate itself accurately during cell division. This ensures that the genetic information is passed on to the next generation of cells. \\n\\nAdditionally, DNA is constantly being used by cells to carry out processes such as protein synthesis, cell division, and repair. Having DNA in every cell allows for the coordination of these processes and ensures that the organism functions properly as a whole. \\n\\nIn summary, every cell in our body contains DNA because it is essential for the proper functioning and development of all living organisms.'"
      ]
     },
     "execution_count": 56,
     "metadata": {},
     "output_type": "execute_result"
    }
   ],
   "source": [
    "chain.run(\"Why does every cell in our body contain DNA?\")"
   ]
  },
  {
   "cell_type": "markdown",
   "id": "09e0c60b-7ae0-453e-9467-142d8dafee6e",
   "metadata": {},
   "source": [
    "**Repeat the above at least once for different inputs and chains executions - Be creative!**"
   ]
  },
  {
   "cell_type": "code",
   "execution_count": 57,
   "id": "cf7b5451",
   "metadata": {},
   "outputs": [],
   "source": [
    "llm = ChatOpenAI(temperature=0.7)\n",
    "\n",
    "prompt_infos = [\n",
    "    {\n",
    "        \"name\": \"Educational_Article\",\n",
    "        \"description\": \"Good for writing informative and well-structured educational articles\",\n",
    "        \"prompt_template\": \"Write a detailed educational article on the topic: {input}\"\n",
    "    },\n",
    "    {\n",
    "        \"name\": \"Social_Media_Post\",\n",
    "        \"description\": \"Best suited for generating short, catchy, and engaging social media posts\",\n",
    "        \"prompt_template\": \"Create an engaging and short social media post for: {input}\"\n",
    "    },\n",
    "    {\n",
    "        \"name\": \"Product_Description\",\n",
    "        \"description\": \"Useful for describing a product’s features in a compelling way\",\n",
    "        \"prompt_template\": \"Write a product description for: {input}\"\n",
    "    }\n",
    "]\n",
    "\n",
    "\n",
    "destination_chains = {}\n",
    "for p_info in prompt_infos:\n",
    "    name = p_info[\"name\"]\n",
    "    prompt_template = p_info[\"prompt_template\"]\n",
    "    prompt = ChatPromptTemplate.from_template(template=prompt_template)\n",
    "    chain = LLMChain(llm=llm, prompt=prompt)\n",
    "    destination_chains[name] = chain\n",
    "\n",
    "\n",
    "destinations = [f\"{p['name']}: {p['description']}\" for p in prompt_infos]\n",
    "destinations_str = \"\\n\".join(destinations)"
   ]
  },
  {
   "cell_type": "code",
   "execution_count": 58,
   "id": "14982553",
   "metadata": {},
   "outputs": [],
   "source": [
    "default_prompt = ChatPromptTemplate.from_template(\"{input}\")\n",
    "default_chain = LLMChain(llm=llm, prompt=default_prompt)"
   ]
  },
  {
   "cell_type": "code",
   "execution_count": 64,
   "id": "21ee9fed",
   "metadata": {},
   "outputs": [],
   "source": [
    "MULTI_PROMPT_ROUTER_TEMPLATE =\"\"\"Given a raw text input to a \\\n",
    "language model select the model prompt best suited for the input. \\\n",
    "You will be given the names of the available prompts and a \\\n",
    "description of what the prompt is best suited for. \\\n",
    "You may also revise the original input if you think that revising \\\n",
    "it will ultimately lead to a better response from the language model.\n",
    "\n",
    "\n",
    "<< FORMATTING >>\n",
    "Return a markdown code snippet with a JSON object formatted to look like:\n",
    "```json\n",
    "{\n",
    "    \"destination\": string,  // name of the prompt to use or \"DEFAULT\"\n",
    "    \"next_inputs\": string   // a potentially modified version of the original input\n",
    "}\"\"\"\n",
    "\n"
   ]
  },
  {
   "cell_type": "code",
   "execution_count": 66,
   "id": "25ad78eb",
   "metadata": {},
   "outputs": [
    {
     "data": {
      "text/plain": [
       "\"The latest iPhone is a cutting-edge device that boasts a plethora of impressive features. From its sleek design to its advanced technology, this phone is sure to impress even the most discerning tech enthusiasts.\\n\\nOne of the standout features of the latest iPhone is its stunning Super Retina XDR display. With vibrant colors, true blacks, and incredible brightness, this display provides an immersive viewing experience for everything from watching movies to browsing the web.\\n\\nIn terms of performance, the latest iPhone is powered by the fastest chip ever in a smartphone. The A15 Bionic chip ensures smooth and seamless performance, whether you're multitasking, gaming, or streaming content.\\n\\nThe latest iPhone also excels in the camera department. With a triple-camera system that includes ultra-wide, wide, and telephoto lenses, you can capture stunning photos and videos in any lighting conditions. Plus, features like Night mode and Deep Fusion technology ensure that your images are always crisp and clear.\\n\\nOther notable features of the latest iPhone include 5G connectivity for lightning-fast download speeds, MagSafe technology for easy wireless charging, and advanced privacy and security features to keep your data safe.\\n\\nOverall, the latest iPhone is a powerhouse device that combines cutting-edge technology with sleek design and innovative features. Whether you're a professional photographer, a hardcore gamer, or just someone who appreciates top-of-the-line technology, this phone is sure to exceed your expectations.\""
      ]
     },
     "execution_count": 66,
     "metadata": {},
     "output_type": "execute_result"
    }
   ],
   "source": [
    "chain.run(\"Describe the features of the latest iPhone\")"
   ]
  },
  {
   "cell_type": "code",
   "execution_count": 67,
   "id": "04cafe60",
   "metadata": {},
   "outputs": [
    {
     "data": {
      "text/plain": [
       "'Adequate sleep is essential for students to thrive academically, physically, and mentally. Research shows that students who get enough sleep are better able to concentrate, retain information, and perform well in school. Sleep plays a crucial role in memory consolidation, helping students to retain and recall information learned throughout the day.\\n\\nFurthermore, sleep is vital for overall health and well-being. It allows the body to rest and recover, reducing the risk of illness and promoting physical growth and development. Lack of sleep has been linked to a variety of health problems, including obesity, diabetes, and mental health issues.\\n\\nIn addition, getting enough sleep can improve mood and reduce stress and anxiety, helping students to better cope with the demands of school and daily life. It can also enhance creativity and problem-solving skills, allowing students to approach challenges with a fresh perspective.\\n\\nOverall, prioritizing sleep is essential for students to reach their full potential and achieve academic success. By making sleep a priority, students can improve their cognitive function, physical health, and overall well-being.'"
      ]
     },
     "execution_count": 67,
     "metadata": {},
     "output_type": "execute_result"
    }
   ],
   "source": [
    "chain.run(\"What is the importance of sleep for students?\")"
   ]
  },
  {
   "cell_type": "code",
   "execution_count": 68,
   "id": "e83bb283",
   "metadata": {},
   "outputs": [
    {
     "data": {
      "text/plain": [
       "'Looking for some Monday motivation? Look no further than our \"Share a Tweet about Monday Motivation\" product! With just a few clicks, you can share an inspiring tweet that will kickstart your week on the right note. Whether you need a little push to tackle your to-do list or just want to spread positivity to your followers, this product has got you covered. Don\\'t let Monday blues get you down - share some motivation and conquer the day!'"
      ]
     },
     "execution_count": 68,
     "metadata": {},
     "output_type": "execute_result"
    }
   ],
   "source": [
    "chain.run(\"Share a tweet about Monday motivation\")"
   ]
  }
 ],
 "metadata": {
  "kernelspec": {
   "display_name": ".venv",
   "language": "python",
   "name": "python3"
  },
  "language_info": {
   "codemirror_mode": {
    "name": "ipython",
    "version": 3
   },
   "file_extension": ".py",
   "mimetype": "text/x-python",
   "name": "python",
   "nbconvert_exporter": "python",
   "pygments_lexer": "ipython3",
   "version": "3.12.9"
  }
 },
 "nbformat": 4,
 "nbformat_minor": 5
}
